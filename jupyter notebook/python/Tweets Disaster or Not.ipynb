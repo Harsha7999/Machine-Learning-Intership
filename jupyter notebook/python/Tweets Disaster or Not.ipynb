import pandas as pd
from sklearn.model_selection import train_test_split
from sklearn.feature_extraction.text import TfidfVectorizer
from sklearn.linear_model import LogisticRegression
from sklearn.metrics import accuracy_score, classification_report, confusion_matrix
import matplotlib.pyplot as plt
import seaborn as sns
import nltk


# --- Data Loading and Preprocessing ---
df = pd.read_csv(r'D:\#NEWDOWNLOADS\train.csv')
df['tweet'] = df['tweet'].str.lower()

# Additional Preprocessing: Remove Stopwords
stop_words = set(stopwords.words('english'))
df['tweet'] = df['tweet'].apply(lambda x: ' '.join([word for word in x.split() if word not in stop_words]))

# --- Exploratory Data Analysis (EDA) ---
plt.figure(figsize=(8, 5))
sns.countplot(x='disaster', data=df, palette="Set1")
plt.title('Distribution of Disaster vs. Non-Disaster Tweets')
plt.show()

# Keyword Analysis
disaster_keywords = df[df['disaster'] == 1]['keyword'].value_counts()[:15]
non_disaster_keywords = df[df['disaster'] == 0]['keyword'].value_counts()[:15]

plt.figure(figsize=(12, 6))
plt.subplot(1, 2, 1)
sns.barplot(x=disaster_keywords.values, y=disaster_keywords.index, palette="magma")
plt.title('Top 15 Keywords in Disaster Tweets')

plt.subplot(1, 2, 2)
sns.barplot(x=non_disaster_keywords.values, y=non_disaster_keywords.index, palette="viridis")
plt.title('Top 15 Keywords in Non-Disaster Tweets')
plt.tight_layout()
plt.show()

import pandas as pd
import seaborn as sns
import matplotlib.pyplot as plt

# Load the dataset
file_path = r'D:\#NEWDOWNLOADS\train.csv'
data = pd.read_csv(file_path)

# Display the first few rows of the dataframe
print(data.head())

# Check for missing values
print("Missing values in each column:\n", data.isnull().sum())

# Distribution of disaster and non-disaster tweets
sns.countplot(x='disaster', data=data, palette='coolwarm')
plt.title('Distribution of Disaster and Non-Disaster Tweets')
plt.show()

# --- Feature Extraction & Model Training ---
X_train, X_test, y_train, y_test = train_test_split(df['tweet'], df['disaster'], test_size=0.2, random_state=42)

vectorizer = TfidfVectorizer(max_features=5000)  # Limit features for visualization
X_train_vec = vectorizer.fit_transform(X_train)
X_test_vec = vectorizer.transform(X_test)

model = LogisticRegression()
model.fit(X_train_vec, y_train)

# --- Model Evaluation ---
y_pred = model.predict(X_test_vec)

print('Accuracy:', accuracy_score(y_test, y_pred))
print(classification_report(y_test, y_pred))

# Confusion Matrix with Styling
cm = confusion_matrix(y_test, y_pred)
plt.figure(figsize=(8, 6))
sns.heatmap(cm, annot=True, fmt='d', cmap='YlGnBu', 
            xticklabels=['Non-Disaster', 'Disaster'], 
            yticklabels=['Non-Disaster', 'Disaster'])
plt.xlabel('Predicted')
plt.ylabel('Actual')
plt.title('Confusion Matrix')
plt.show()


# --- Analyze Predictions ---
print(test_df[['tweet', 'predicted_disaster']]) # Print tweets and predictions

# --- Analyze Predictions ---
sns.countplot(x='predicted_disaster', data=test_df, palette="Set2")
plt.title('Distribution of Predicted Disaster vs. Non-Disaster Tweets)
plt.xlabel('Predicted Disaster (1=Yes, 0=No)')
plt.show()
