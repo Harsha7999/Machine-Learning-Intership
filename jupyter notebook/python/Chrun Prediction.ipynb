import pandas as pd
import numpy as np
import matplotlib.pyplot as plt
import seaborn as sns
from sklearn.model_selection import train_test_split
from sklearn.preprocessing import StandardScaler
from sklearn.linear_model import LogisticRegression
from sklearn.ensemble import RandomForestClassifier
from sklearn.metrics import accuracy_score, f1_score, classification_report, confusion_matrix

# Load the dataset
data = pd.read_csv('D:\#NEWDOWNLOADS\Churn-Data.csv')

# Data Exploration and Visualization
# 1. Understanding the data
print(data.head())
print(data.info())
print(data.describe())


# Visualize churn distribution
sns.countplot(x='Churn', data=data)
plt.title('Churn Distribution')
plt.show()

# 3. Analyze categorical features
fig, axes = plt.subplots(3, 3, figsize=(15, 10))
sns.countplot(x='gender', hue='Churn', data=data, ax=axes[0, 0])
sns.countplot(x='Partner', hue='Churn', data=data, ax=axes[0, 1])
sns.countplot(x='Dependents', hue='Churn', data=data, ax=axes[0, 2])
sns.countplot(x='PhoneService', hue='Churn', data=data, ax=axes[1, 0])
sns.countplot(x='MultipleLines', hue='Churn', data=data, ax=axes[1, 1])
sns.countplot(x='InternetService', hue='Churn', data=data, ax=axes[1, 2])
sns.countplot(x='Contract', hue='Churn', data=data, ax=axes[2, 0])
sns.countplot(x='PaperlessBilling', hue='Churn', data=data, ax=axes[2, 1])
sns.countplot(x='Method_Payment', hue='Churn', data=data, ax=axes[2, 2])
plt.tight_layout()
plt.show()

# Model Building and Evaluation
# 1. Logistic Regression
logreg = LogisticRegression()
logreg.fit(X_train, y_train)
y_pred_logreg = logreg.predict(X_test)
accuracy_logreg = accuracy_score(y_test, y_pred_logreg)
f1_logreg = f1_score(y_test, y_pred_logreg)
print("Logistic Regression:")
print(f"Accuracy: {accuracy_logreg}")
print(f"F1-score: {f1_logreg}")
print(classification_report(y_test, y_pred_logreg))
print(confusion_matrix(y_test, y_pred_logreg))

# 2. Random Forest
rf = RandomForestClassifier(random_state=42)
rf.fit(X_train, y_train)
y_pred_rf = rf.predict(X_test)
accuracy_rf = accuracy_score(y_test, y_pred_rf)
f1_rf = f1_score(y_test, y_pred_rf)
print("Random Forest:")
print(f"Accuracy: {accuracy_rf}")
print(f"F1-score: {f1_rf}")
print(classification_report(y_test, y_pred_rf))
print(confusion_matrix(y_test, y_pred_rf))

# Model Comparison (You can add more models here)
models = ['Logistic Regression', 'Random Forest']
accuracies = [accuracy_logreg, accuracy_rf]
f1_scores = [f1_logreg, f1_rf]

# Visualize Model Comparison
plt.figure(figsize=(8, 5))
plt.bar(models, accuracies, label='Accuracy')
plt.bar(models, f1_scores, label='F1-score')
plt.xlabel('Models')
plt.ylabel('Scores')
plt.title('Model Comparison')
plt.legend()
plt.show()

